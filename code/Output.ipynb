{
 "cells": [
  {
   "cell_type": "code",
   "execution_count": 2,
   "metadata": {},
   "outputs": [],
   "source": [
    "import pandas as pd\n",
    "import joblib\n",
    "import json"
   ]
  },
  {
   "cell_type": "code",
   "execution_count": 3,
   "metadata": {},
   "outputs": [],
   "source": [
    "# Load the trained model from the file\n",
    "model_filename = r'f:\\PROJECTS\\CybersecurityProjects\\Phishing Project\\phishing+websites\\code\\First_Version.joblib'\n",
    "loaded_model = joblib.load(model_filename)"
   ]
  },
  {
   "cell_type": "code",
   "execution_count": 4,
   "metadata": {},
   "outputs": [],
   "source": [
    "# Load user input from JSON file\n",
    "with open(r'f:\\PROJECTS\\CybersecurityProjects\\Phishing Project\\phishing+websites\\code\\User_input.json') as f:\n",
    "    user_input_values = json.load(f)"
   ]
  },
  {
   "cell_type": "code",
   "execution_count": 5,
   "metadata": {},
   "outputs": [],
   "source": [
    "# Assuming 'input_features' is a dictionary where keys are feature names and values are user-input values\n",
    "def predict_phishing(input_features):\n",
    "    # Create a DataFrame from user input\n",
    "    user_input = pd.DataFrame([input_features])\n",
    "\n",
    "    # Make prediction using the loaded model\n",
    "    prediction = loaded_model.predict(user_input)\n",
    "\n",
    "    return prediction"
   ]
  },
  {
   "cell_type": "code",
   "execution_count": 6,
   "metadata": {},
   "outputs": [
    {
     "name": "stdout",
     "output_type": "stream",
     "text": [
      "The website is predicted to be phishing.\n"
     ]
    }
   ],
   "source": [
    "# Make prediction using the loaded model and user input\n",
    "result = predict_phishing(user_input_values)\n",
    "\n",
    "# Display the prediction result\n",
    "if result[0] == 1:\n",
    "    print(\"The website is predicted to be phishing.\")\n",
    "else:\n",
    "    print(\"The website is predicted to be non-phishing.\")\n"
   ]
  },
  {
   "cell_type": "code",
   "execution_count": null,
   "metadata": {},
   "outputs": [],
   "source": []
  }
 ],
 "metadata": {
  "kernelspec": {
   "display_name": "Python 3",
   "language": "python",
   "name": "python3"
  },
  "language_info": {
   "codemirror_mode": {
    "name": "ipython",
    "version": 3
   },
   "file_extension": ".py",
   "mimetype": "text/x-python",
   "name": "python",
   "nbconvert_exporter": "python",
   "pygments_lexer": "ipython3",
   "version": "3.11.5"
  }
 },
 "nbformat": 4,
 "nbformat_minor": 2
}
