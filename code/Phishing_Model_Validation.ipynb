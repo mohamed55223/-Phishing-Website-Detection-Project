{
 "cells": [
  {
   "cell_type": "code",
   "execution_count": 1,
   "metadata": {},
   "outputs": [],
   "source": [
    "import pandas as pd\n",
    "import numpy as np \n",
    "import matplotlib.pyplot as plt\n",
    "import seaborn as sns\n",
    "from sklearn.model_selection import train_test_split\n",
    "from sklearn.ensemble import RandomForestClassifier\n",
    "from sklearn.linear_model import LogisticRegression\n",
    "from sklearn.metrics import accuracy_score\n",
    "from sklearn.metrics import confusion_matrix\n",
    "from sklearn.metrics import classification_report\n",
    "import joblib\n"
   ]
  },
  {
   "cell_type": "code",
   "execution_count": 2,
   "metadata": {},
   "outputs": [],
   "source": [
    "valid=pd.read_csv(r\"f:\\PROJECTS\\CybersecurityProjects\\Phishing Project\\phishing+websites\\final_data_old.csv\")"
   ]
  },
  {
   "cell_type": "code",
   "execution_count": 3,
   "metadata": {},
   "outputs": [],
   "source": [
    "# Load the trained model\n",
    "loaded_model = joblib.load(\"f:\\PROJECTS\\CybersecurityProjects\\Phishing Project\\phishing+websites\\code\\First_Version.joblib\")"
   ]
  },
  {
   "cell_type": "code",
   "execution_count": 4,
   "metadata": {},
   "outputs": [],
   "source": [
    "# Separate features and target variable for validation dataset\n",
    "validY = valid['Result']\n",
    "validX = valid.drop(['Result'], axis=1)"
   ]
  },
  {
   "cell_type": "code",
   "execution_count": null,
   "metadata": {},
   "outputs": [],
   "source": [
    "# Make predictions on the validation dataset\n",
    "valid_predictions = loaded_model.predict(validX)\n",
    "\n",
    "# Calculate accuracy on the validation dataset\n",
    "valid_accuracy = accuracy_score(validY, valid_predictions)\n",
    "print(\"Validation Accuracy:\", valid_accuracy)"
   ]
  },
  {
   "cell_type": "code",
   "execution_count": null,
   "metadata": {},
   "outputs": [],
   "source": [
    "# Confusion Matrix for validation dataset\n",
    "conf_matrix_valid = confusion_matrix(validY, valid_predictions)\n",
    "sns.heatmap(conf_matrix_valid, annot=True, fmt='d', cmap='Blues')\n",
    "plt.title(\"Confusion Matrix - Validation Dataset\")\n",
    "plt.xlabel(\"Predicted Labels\")\n",
    "plt.ylabel(\"True Labels\")\n",
    "plt.show()"
   ]
  },
  {
   "cell_type": "code",
   "execution_count": null,
   "metadata": {},
   "outputs": [],
   "source": [
    "# Classification Report for validation dataset\n",
    "class_report_valid = classification_report(validY, valid_predictions)\n",
    "print(\"Classification Report - Validation Dataset:\\n\", class_report_valid)\n"
   ]
  },
  {
   "cell_type": "code",
   "execution_count": null,
   "metadata": {},
   "outputs": [],
   "source": [
    "# Save the confusion matrix and classification report to files\n",
    "with open(\"f:\\PROJECTS\\CybersecurityProjects\\Phishing Project\\phishing+websites\\code\\confusion_matrix_valid.txt\", \"w\") as file:\n",
    "    file.write(\"Confusion Matrix - Validation Dataset:\\n\")\n",
    "    file.write(str(conf_matrix_valid))\n",
    "    file.write(\"\\n\\n\")\n",
    "    file.write(\"Classification Report - Validation Dataset:\\n\")\n",
    "    file.write(class_report_valid)\n",
    "    file.write(\"\\n\")\n",
    "    file.close()"
   ]
  }
 ],
 "metadata": {
  "kernelspec": {
   "display_name": "Python 3",
   "language": "python",
   "name": "python3"
  },
  "language_info": {
   "codemirror_mode": {
    "name": "ipython",
    "version": 3
   },
   "file_extension": ".py",
   "mimetype": "text/x-python",
   "name": "python",
   "nbconvert_exporter": "python",
   "pygments_lexer": "ipython3",
   "version": "3.11.5"
  }
 },
 "nbformat": 4,
 "nbformat_minor": 2
}
