{
 "cells": [
  {
   "cell_type": "markdown",
   "metadata": {},
   "source": [
    "Converting ARFF file into CSV"
   ]
  },
  {
   "cell_type": "code",
   "execution_count": 1,
   "metadata": {},
   "outputs": [],
   "source": [
    "import pandas as pd\n",
    "from scipy.io import arff\n",
    "\n",
    "# Replace 'input.arff' with the path to your ARFF file\n",
    "# Replace 'output.csv' with the desired path for the CSV file\n",
    "arff_file_path = r'f:\\PROJECTS\\CybersecurityProjects\\Phishing Project\\phishing+websites\\phishing.arff'\n",
    "csv_file_path = r'f:\\PROJECTS\\CybersecurityProjects\\Phishing Project\\phishing+websites\\output2.csv'\n",
    "\n",
    "# Load ARFF file\n",
    "data, meta = arff.loadarff(arff_file_path)\n",
    "\n",
    "# Convert to DataFrame\n",
    "df = pd.DataFrame(data)\n",
    "\n",
    "# Save to CSV\n",
    "df.to_csv(csv_file_path, index=False)\n"
   ]
  },
  {
   "cell_type": "markdown",
   "metadata": {},
   "source": [
    "Change CSV cells values into binary values (0,1,-1)"
   ]
  },
  {
   "cell_type": "code",
   "execution_count": 2,
   "metadata": {},
   "outputs": [],
   "source": [
    "import pandas as pd\n",
    "\n",
    "# Replace 'your_input.csv' with the path to your input CSV file\n",
    "# Replace 'your_output.csv' with the path for the output CSV file\n",
    "input_csv_path = r'f:\\PROJECTS\\CybersecurityProjects\\Phishing Project\\phishing+websites\\output2.csv'\n",
    "output_csv_path = r'f:\\PROJECTS\\CybersecurityProjects\\Phishing Project\\phishing+websites\\your_output.csv'\n",
    "\n",
    "# Read the CSV file into a DataFrame\n",
    "df = pd.read_csv(input_csv_path)\n",
    "\n",
    "# Define the value you want to replace and the new value\n",
    "old_value = \"b'1'\"\n",
    "new_value = 1\n",
    "\n",
    "# Iterate through all columns and replace the specified value\n",
    "for column in df.columns:\n",
    "    df[column] = df[column].replace(old_value, new_value)\n",
    "\n",
    "# Write the updated DataFrame to a new CSV file\n",
    "df.to_csv(output_csv_path, index=False)\n"
   ]
  },
  {
   "cell_type": "code",
   "execution_count": 3,
   "metadata": {},
   "outputs": [],
   "source": [
    "import pandas as pd\n",
    "\n",
    "# Replace 'your_input.csv' with the path to your input CSV file\n",
    "# Replace 'your_output.csv' with the path for the output CSV file\n",
    "input_csv_path = r'f:\\PROJECTS\\CybersecurityProjects\\Phishing Project\\phishing+websites\\your_output.csv'\n",
    "output_csv_path = r'f:\\PROJECTS\\CybersecurityProjects\\Phishing Project\\phishing+websites\\your_output2.csv'\n",
    "\n",
    "# Read the CSV file into a DataFrame\n",
    "df = pd.read_csv(input_csv_path)\n",
    "\n",
    "# Define the value you want to replace and the new value\n",
    "old_value = \"b'0'\"\n",
    "new_value = 0\n",
    "\n",
    "# Iterate through all columns and replace the specified value\n",
    "for column in df.columns:\n",
    "    df[column] = df[column].replace(old_value, new_value)\n",
    "\n",
    "# Write the updated DataFrame to a new CSV file\n",
    "df.to_csv(output_csv_path, index=False)\n"
   ]
  },
  {
   "cell_type": "code",
   "execution_count": 4,
   "metadata": {},
   "outputs": [],
   "source": [
    "import pandas as pd\n",
    "\n",
    "# Replace 'your_input.csv' with the path to your input CSV file\n",
    "# Replace 'your_output.csv' with the path for the output CSV file\n",
    "input_csv_path = r'f:\\PROJECTS\\CybersecurityProjects\\Phishing Project\\phishing+websites\\your_output2.csv'\n",
    "output_csv_path = r'f:\\PROJECTS\\CybersecurityProjects\\Phishing Project\\phishing+websites\\final_data.csv'\n",
    "\n",
    "# Read the CSV file into a DataFrame\n",
    "df = pd.read_csv(input_csv_path)\n",
    "\n",
    "# Define the value you want to replace and the new value\n",
    "old_value = \"b'-1'\"\n",
    "new_value = -1\n",
    "\n",
    "# Iterate through all columns and replace the specified value\n",
    "for column in df.columns:\n",
    "    df[column] = df[column].replace(old_value, new_value)\n",
    "\n",
    "# Write the updated DataFrame to a new CSV file\n",
    "df.to_csv(output_csv_path, index=False)\n"
   ]
  }
 ],
 "metadata": {
  "kernelspec": {
   "display_name": "Python 3",
   "language": "python",
   "name": "python3"
  },
  "language_info": {
   "codemirror_mode": {
    "name": "ipython",
    "version": 3
   },
   "file_extension": ".py",
   "mimetype": "text/x-python",
   "name": "python",
   "nbconvert_exporter": "python",
   "pygments_lexer": "ipython3",
   "version": "3.11.5"
  }
 },
 "nbformat": 4,
 "nbformat_minor": 2
}
